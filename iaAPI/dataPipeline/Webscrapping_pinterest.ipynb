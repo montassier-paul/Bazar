{
 "cells": [
  {
   "cell_type": "markdown",
   "id": "a9926789",
   "metadata": {},
   "source": [
    "# Pinterest Webscrapping script"
   ]
  },
  {
   "cell_type": "markdown",
   "id": "1d26c5f4",
   "metadata": {},
   "source": [
    "web scrapping pinterest images to annotate them with roboflow and feed the AI model"
   ]
  },
  {
   "cell_type": "code",
   "execution_count": 1,
   "id": "81ffe9d4",
   "metadata": {},
   "outputs": [],
   "source": [
    "import requests\n",
    "from bs4 import BeautifulSoup\n",
    "import os"
   ]
  },
  {
   "cell_type": "code",
   "execution_count": 7,
   "id": "53f01c69",
   "metadata": {},
   "outputs": [],
   "source": [
    "urls = ['https://www.pinterest.fr/lauriedauriac/style-mec/', \n",
    "        'https://www.pinterest.fr/faboubou/mode-femme/', \n",
    "        \"https://www.pinterest.fr/MeilleurDuWeb/mode-homme-le-meilleur/\",\n",
    "        \"https://www.pinterest.fr/yseultdel/mode-homme/\",\n",
    "        'https://www.pinterest.fr/diperoyjudith/tenue-classe-femme/']"
   ]
  },
  {
   "cell_type": "code",
   "execution_count": 3,
   "id": "8f07cc27",
   "metadata": {},
   "outputs": [],
   "source": [
    "path = \"C:/Users/Montassier Paul/Documents/Datasets/Pinterest/\""
   ]
  },
  {
   "cell_type": "code",
   "execution_count": 10,
   "id": "e919e954",
   "metadata": {},
   "outputs": [],
   "source": [
    "def webscrapping(path, urls):\n",
    "    \"\"\"\n",
    "    path : path where to save the images\n",
    "    urls : list of pinterest links or retrieve images\n",
    "    \"\"\"\n",
    "    \n",
    "    #check the need to creat a new directory\n",
    "    if( not os.path.isdir(path) ): \n",
    "        os.mkdir(path)\n",
    "        \n",
    "    \n",
    "    images_urls = []\n",
    "    \n",
    "    # for each link, get the urls of the images \n",
    "    for url in urls: \n",
    "        req = requests.get(url)\n",
    "        soup = BeautifulSoup(req.text, 'html.parser')\n",
    "        data = soup.find_all(\"img\")\n",
    "        for image in data:\n",
    "            images_urls.append(image[\"src\"])\n",
    "             \n",
    "    # retrieve the images and save them in the directory\n",
    "    for image_url in images_urls:\n",
    "        response = requests.get(image_url)\n",
    "        image_name = image_url.split(\"/\")[-1]\n",
    "        file = open(path + image_name, \"wb\")\n",
    "        file.write(response.content)\n",
    "        file.close()"
   ]
  },
  {
   "cell_type": "code",
   "execution_count": 11,
   "id": "93123a0f",
   "metadata": {},
   "outputs": [],
   "source": [
    "webscrapping(path, urls)"
   ]
  }
 ],
 "metadata": {
  "kernelspec": {
   "display_name": "Python 3 (ipykernel)",
   "language": "python",
   "name": "python3"
  },
  "language_info": {
   "codemirror_mode": {
    "name": "ipython",
    "version": 3
   },
   "file_extension": ".py",
   "mimetype": "text/x-python",
   "name": "python",
   "nbconvert_exporter": "python",
   "pygments_lexer": "ipython3",
   "version": "3.9.12"
  }
 },
 "nbformat": 4,
 "nbformat_minor": 5
}
