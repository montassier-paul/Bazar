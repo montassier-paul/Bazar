{
 "cells": [
  {
   "cell_type": "code",
   "execution_count": 1,
   "id": "66cf72fc",
   "metadata": {},
   "outputs": [],
   "source": [
    "import requests\n",
    "from PIL import Image\n",
    "import io\n",
    "import json\n",
    "import matplotlib.pyplot as plt\n",
    "from matplotlib.patches import Rectangle\n",
    "import cv2\n",
    "import pandas as pd\n",
    "import numpy as np\n",
    "import webbrowser"
   ]
  },
  {
   "cell_type": "code",
   "execution_count": 2,
   "id": "ff47673a",
   "metadata": {},
   "outputs": [],
   "source": [
    "#local server api\n",
    "URL = 'http://localhost:5000/'"
   ]
  },
  {
   "cell_type": "markdown",
   "id": "b02d37c7",
   "metadata": {},
   "source": [
    "## Clickable images"
   ]
  },
  {
   "cell_type": "markdown",
   "id": "19404e07",
   "metadata": {},
   "source": [
    "fontions used for the clickable image proto"
   ]
  },
  {
   "cell_type": "code",
   "execution_count": 3,
   "id": "0e841e97",
   "metadata": {},
   "outputs": [],
   "source": [
    "# image callback\n",
    "\n",
    "def onMouse(event, x, y, flags, links):\n",
    "    \"\"\"\n",
    "    When mouse inside, display clickable area in image\n",
    "    Open link in web browser when image clicked\n",
    "    \n",
    "    input : \n",
    "        x,y : position of the mouse on the image \n",
    "        links : Links object. Allows  to make the image interactive\n",
    "    \n",
    "    \n",
    "\n",
    "    \"\"\"\n",
    "    \n",
    "    if event == cv2.EVENT_LBUTTONDOWN:\n",
    "        # Open the link in the web browser\n",
    "        links.itemClicked(x,y) \n",
    "        \n",
    "    if event == cv2.EVENT_MOUSEMOVE: \n",
    "        # When inside clothes area, display the border of the area\n",
    "        links.displayArea(x,y)"
   ]
  },
  {
   "cell_type": "code",
   "execution_count": 59,
   "id": "ca14da2f",
   "metadata": {},
   "outputs": [],
   "source": [
    "class Links:\n",
    "    \"\"\"\n",
    "    Class that makes images clickable\n",
    "    \"\"\"\n",
    "    \n",
    "    \n",
    "    def __init__(self, data, items, path):\n",
    "        \"\"\"\n",
    "        data : bbox of all predicted clothes\n",
    "        items : links associated with clothes\n",
    "        img : image \n",
    "        path : path of the image\n",
    "        colors : bbox colors\n",
    "        thickness : bbox border thickness\n",
    "        display : bool to display area'border only when mouse inside\n",
    "        \n",
    "        \"\"\"\n",
    "        self.data = data\n",
    "        self.items = items\n",
    "        self.display = False\n",
    "        self.img = cv2.imread(path)\n",
    "        self.path = path\n",
    "        self.colors = [(255, 137, 22), (67, 240, 67),(142, 25, 76), (78, 180, 243), (165, 134, 245), (92, 9, 50)]\n",
    "        self.thickness = 2\n",
    "        self.display = [False for k in range(len(data))] \n",
    "            \n",
    "            \n",
    "\n",
    "               \n",
    "    def itemClicked(self,x,y): \n",
    "        \"\"\"\n",
    "        method who detect which clothes has been clicked, and open the corresponding link\n",
    "        \"\"\"\n",
    "        \n",
    "        for index in range(self.data.shape[0]): \n",
    "            #check for each item if mouse inside the area : if inside open the link\n",
    "            if( (x > self.data[index,0]) and (x < self.data[index,2])\n",
    "               and (y > self.data[index,1]) and (y < self.data[index,3])):\n",
    "    #                 webbrowser.open(items[self.data[frame][6]])\n",
    "                  webbrowser.open(items[index])\n",
    "#                   webbrowser.open('https://fr.shein.com/Men-Solid-Notched-Neck-Tee-p-9079332-cat-1978.html?url_from=fradplasm2112064364522856M_GPM&cid=16923873116&setid=&adid=&pf=GOOGLE&gclid=CjwKCAjwwo-WBhAMEiwAV4dybdFPPKeAXk-t6suc5z_-2aqXyCbqWfYIHA3xfRMTYOlTExBxcQFPSxoC8IwQAvD_BwE')\n",
    "                  break\n",
    "                \n",
    "                \n",
    "    def displayArea(self, x, y):\n",
    "        \"\"\"\n",
    "        method who detect if mouse in clickable area. If inside, display border of this area as  insight for the customer he \n",
    "        can click\n",
    "        \"\"\"\n",
    " \n",
    "\n",
    "        for index in range(self.data.shape[0]):  \n",
    "            # check at every move of the mouse if mouse inside or not area\n",
    "            if( (x > self.data[index,0]) and (x < self.data[index,2])\n",
    "               and (y > self.data[index,1]) and (y < self.data[index,3])):\n",
    "\n",
    "                if(not self.display[index]):         \n",
    "                    # if mouse inside area, display the area\n",
    "\n",
    "                    self.display[index] = True              \n",
    "                    cv2.imshow('image',cv2.rectangle(self.img, (int(self.data[index,0]),int(self.data[index,1])),\n",
    "                              (int(self.data[index,2]),int(self.data[index,3])), self.colors[index],self.thickness))\n",
    "                    cv2.setMouseCallback('image', onMouse, links)\n",
    "                    cv2.waitKey(0)\n",
    "                    \n",
    "                    \n",
    "\n",
    "            else : \n",
    "                if (self.display[index]):               \n",
    "                    # if mouse quit area stop displaying the area\n",
    "\n",
    "                    self.display[index] = False\n",
    "                    self.img = cv2.imread(self.path)\n",
    "                    cv2.imshow('image',self.img)\n",
    "                    cv2.setMouseCallback('image', onMouse, links)\n",
    "                    cv2.waitKey(0)\n",
    "\n",
    "        \n",
    "\n",
    "    \n",
    "    def getItems(self):\n",
    "        #get position of clothes \n",
    "        \n",
    "        return (self.data)\n",
    "       \n",
    "                \n",
    "    def clearLinks(self): \n",
    "        #clear the onject\n",
    "        self.data = {}\n",
    "        self.items = {}\n",
    "        self.path = \" \"\n",
    "        self.img = None\n",
    "        self.frame_index = 0\n",
    "        self.display = [False for k in range(len(self.data))] \n",
    "        self.color = (255, 0, 0)\n",
    "        self.thickness = 2\n",
    "        \n",
    "    def reset(self): \n",
    "        #reset the object\n",
    "        self.display = [False for k in range(len(self.data))] "
   ]
  },
  {
   "cell_type": "markdown",
   "id": "c39bea42",
   "metadata": {},
   "source": [
    "## Test if the server is running"
   ]
  },
  {
   "cell_type": "code",
   "execution_count": 48,
   "id": "8f451e30",
   "metadata": {},
   "outputs": [
    {
     "data": {
      "text/plain": [
       "{'msg': 'Get ok'}"
      ]
     },
     "execution_count": 48,
     "metadata": {},
     "output_type": "execute_result"
    }
   ],
   "source": [
    "response = requests.get(URL).json()\n",
    "response"
   ]
  },
  {
   "cell_type": "code",
   "execution_count": 31,
   "id": "2389c005",
   "metadata": {},
   "outputs": [
    {
     "data": {
      "text/plain": [
       "{'msg': 'test de la méthode post'}"
      ]
     },
     "execution_count": 31,
     "metadata": {},
     "output_type": "execute_result"
    }
   ],
   "source": [
    "response = requests.post(URL,  json={\"msg\": \"test de la méthode post\"}).json()\n",
    "response"
   ]
  },
  {
   "cell_type": "markdown",
   "id": "51075225",
   "metadata": {},
   "source": [
    "## Retrieve the list of existing AI models "
   ]
  },
  {
   "cell_type": "code",
   "execution_count": 41,
   "id": "9adbf464",
   "metadata": {},
   "outputs": [
    {
     "data": {
      "text/plain": [
       "{'models': ['Fashion_Datasets_50_labels_V1']}"
      ]
     },
     "execution_count": 41,
     "metadata": {},
     "output_type": "execute_result"
    }
   ],
   "source": [
    "response = requests.get(URL + \"models\").json()\n",
    "response"
   ]
  },
  {
   "cell_type": "markdown",
   "id": "b4c53f9c",
   "metadata": {},
   "source": [
    "## Clothing detection and clickable image prototype"
   ]
  },
  {
   "cell_type": "code",
   "execution_count": 51,
   "id": "7edd855d",
   "metadata": {
    "scrolled": true
   },
   "outputs": [
    {
     "data": {
      "text/plain": [
       "{'result': '[{\"xmin\":118.6928024292,\"ymin\":100.7062988281,\"xmax\":176.1818084717,\"ymax\":192.7524108887,\"confidence\":0.5261660814,\"class\":16,\"name\":\"Tank\"},{\"xmin\":112.1839294434,\"ymin\":207.7719116211,\"xmax\":183.2527160645,\"ymax\":261.6682739258,\"confidence\":0.099006474,\"class\":31,\"name\":\"Shorts\"}]'}"
      ]
     },
     "execution_count": 51,
     "metadata": {},
     "output_type": "execute_result"
    }
   ],
   "source": [
    "image_path = \"C:/Users/Montassier Paul/Documents/Bazar/iaAPI/iaAPI/img_test.jpg\"\n",
    "image_data = open(image_path, \"rb\").read()\n",
    "response = requests.post(URL + \"/object_detection\", files={\"image\": image_data}).json()\n",
    "response"
   ]
  },
  {
   "cell_type": "code",
   "execution_count": 52,
   "id": "020ce47c",
   "metadata": {},
   "outputs": [],
   "source": [
    "#Fit the bbox predicted with the resized image on the server with the true image\n",
    "\n",
    "img = Image.open(io.BytesIO(image_data))\n",
    "w, h = img.size\n",
    "pred = json.loads(response[\"result\"])\n",
    "for i in range(len(pred)): \n",
    "    pred[i][\"xmin\"] = pred[i][\"xmin\"] + (w - 300)/2\n",
    "    pred[i][\"xmax\"] = pred[i][\"xmax\"] + (w - 300)/2\n",
    "    pred[i][\"ymin\"] = pred[i][\"ymin\"] + (h - 300)/2\n",
    "    pred[i][\"ymax\"] = pred[i][\"ymax\"] + (h - 300)/2"
   ]
  },
  {
   "cell_type": "code",
   "execution_count": 54,
   "id": "23c2d220",
   "metadata": {},
   "outputs": [
    {
     "data": {
      "image/png": "[encoded data removed]",
      "text/plain": [
       "<Figure size 432x288 with 1 Axes>"
      ]
     },
     "metadata": {
      "needs_background": "light"
     },
     "output_type": "display_data"
    }
   ],
   "source": [
    "#display results\n",
    "\n",
    "colors = ['#ff8916', '#43f043','#8e194c', '#4eb4f3', '#a586f5', '#5c0932']\n",
    "plt.imshow(img)\n",
    "\n",
    "for i in range(len(pred)):\n",
    "    plt.gca().add_patch(Rectangle((pred[i][\"xmin\"],pred[i][\"ymin\"]),pred[i][\"xmax\"] - pred[i][\"xmin\"],\n",
    "                        pred[i][\"ymax\"] - pred[i][\"ymin\"],linewidth=1,edgecolor=colors[i],facecolor='none'))\n",
    "\n",
    "    plt.text(pred[i][\"xmax\"] + 50,(pred[i][\"ymax\"] + pred[i][\"ymin\"]) / 2,'confidence : ' + str(pred[i][\"confidence\"]))\n",
    "    plt.text(pred[i][\"xmax\"] + 50,(pred[i][\"ymax\"] + pred[i][\"ymin\"]) / 2 + 20,'name : ' + str(pred[i][\"name\"]))"
   ]
  },
  {
   "cell_type": "markdown",
   "id": "fda231d1",
   "metadata": {},
   "source": [
    "### Proto clickable image"
   ]
  },
  {
   "cell_type": "code",
   "execution_count": 60,
   "id": "13b010b7",
   "metadata": {},
   "outputs": [],
   "source": [
    "items = [\n",
    "    \"https://fr.shein.com/Men-Solid-Notched-Neck-Tee-p-9079332-cat-1978.html?url_from=fradplasm2112064364522856M_GPM&cid=16923873116&setid=&adid=&pf=GOOGLE&gclid=CjwKCAjwwo-WBhAMEiwAV4dybdFPPKeAXk-t6suc5z_-2aqXyCbqWfYIHA3xfRMTYOlTExBxcQFPSxoC8IwQAvD_BwE\"\n",
    "    ,\"https://www.laboutiqueofficielle.com/achat-shorts-jogging/lbo-short-jogging-119-gris-chine-98379.html?referer=gshopping&LGWCODE=3735187068581;160079;7403&gclid=CjwKCAjwiJqWBhBdEiwAtESPaPxsfh0xCxSqZRvJkpdyUzRumkwCvGmcjm6vIOppIE2ddyYdng2ePhoC3uYQAvD_BwE\"\n",
    "]\n",
    "links = Links(np.array(pd.DataFrame(pd.DataFrame(pred))), {},image_path)"
   ]
  },
  {
   "cell_type": "code",
   "execution_count": 61,
   "id": "4aec5af2",
   "metadata": {},
   "outputs": [],
   "source": [
    "img = cv2.imread(image_path)\n",
    "cv2.imshow('image',img)\n",
    "cv2.setMouseCallback('image', onMouse, links)\n",
    "cv2.waitKey(0)\n",
    "cv2.destroyAllWindows()"
   ]
  },
  {
   "cell_type": "markdown",
   "id": "f66ed9cd",
   "metadata": {},
   "source": [
    "## Get the model confidence level"
   ]
  },
  {
   "cell_type": "code",
   "execution_count": 50,
   "id": "eb3ea7a0",
   "metadata": {},
   "outputs": [
    {
     "data": {
      "text/plain": [
       "{'msg': 'New confidence threshold applied'}"
      ]
     },
     "execution_count": 50,
     "metadata": {},
     "output_type": "execute_result"
    }
   ],
   "source": [
    "response = requests.post(URL + \"new_conf\", json={\"conf\": \"0.05\"}).json()\n",
    "response"
   ]
  },
  {
   "cell_type": "markdown",
   "id": "083ea490",
   "metadata": {},
   "source": [
    "## Change the confidence level of the model "
   ]
  },
  {
   "cell_type": "code",
   "execution_count": 45,
   "id": "7cdd8c12",
   "metadata": {},
   "outputs": [
    {
     "data": {
      "text/plain": [
       "{'conf': 0.1}"
      ]
     },
     "execution_count": 45,
     "metadata": {},
     "output_type": "execute_result"
    }
   ],
   "source": [
    "response = requests.get(URL + \"model_conf\").json()\n",
    "response"
   ]
  },
  {
   "cell_type": "markdown",
   "id": "d5a79b47",
   "metadata": {},
   "source": [
    "## Get the name of the AI model currently running on the server "
   ]
  },
  {
   "cell_type": "code",
   "execution_count": 36,
   "id": "f4ae086b",
   "metadata": {},
   "outputs": [
    {
     "data": {
      "text/plain": [
       "{'model_name': 'Fashion_Datasets_50_labels_V1'}"
      ]
     },
     "execution_count": 36,
     "metadata": {},
     "output_type": "execute_result"
    }
   ],
   "source": [
    "response = requests.get(URL + \"model_name\").json()\n",
    "response\n"
   ]
  },
  {
   "cell_type": "markdown",
   "id": "d3dd2fb6",
   "metadata": {},
   "source": [
    "## switch to a different model "
   ]
  },
  {
   "cell_type": "code",
   "execution_count": 37,
   "id": "aec75390",
   "metadata": {},
   "outputs": [
    {
     "data": {
      "text/plain": [
       "{'msg': 'le modèle à bien été changé'}"
      ]
     },
     "execution_count": 37,
     "metadata": {},
     "output_type": "execute_result"
    }
   ],
   "source": [
    "response = requests.post(URL + \"switch_model\", json={\"new_model\": \"Fashion_Datasets_50_labels_V1\"}).json()\n",
    "response"
   ]
  }
 ],
 "metadata": {
  "kernelspec": {
   "display_name": "Python 3 (ipykernel)",
   "language": "python",
   "name": "python3"
  },
  "language_info": {
   "codemirror_mode": {
    "name": "ipython",
    "version": 3
   },
   "file_extension": ".py",
   "mimetype": "text/x-python",
   "name": "python",
   "nbconvert_exporter": "python",
   "pygments_lexer": "ipython3",
   "version": "3.9.12"
  }
 },
 "nbformat": 4,
 "nbformat_minor": 5
}
